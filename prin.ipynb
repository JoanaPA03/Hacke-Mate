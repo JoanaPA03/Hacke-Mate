{
 "cells": [
  {
   "cell_type": "code",
   "execution_count": 2,
   "metadata": {},
   "outputs": [
    {
     "name": "stdout",
     "output_type": "stream",
     "text": [
      "Collecting pandas\n",
      "  Downloading pandas-2.0.1-cp310-cp310-win_amd64.whl (10.7 MB)\n",
      "     ---------------------------------------- 10.7/10.7 MB 1.6 MB/s eta 0:00:00\n",
      "Collecting pytz>=2020.1\n",
      "  Downloading pytz-2023.3-py2.py3-none-any.whl (502 kB)\n",
      "     -------------------------------------- 502.3/502.3 kB 1.4 MB/s eta 0:00:00\n",
      "Requirement already satisfied: numpy>=1.21.0 in c:\\users\\aleix\\appdata\\local\\programs\\python\\python310\\lib\\site-packages (from pandas) (1.24.1)\n",
      "Collecting tzdata>=2022.1\n",
      "  Downloading tzdata-2023.3-py2.py3-none-any.whl (341 kB)\n",
      "     -------------------------------------- 341.8/341.8 kB 1.9 MB/s eta 0:00:00\n",
      "Requirement already satisfied: python-dateutil>=2.8.2 in c:\\users\\aleix\\appdata\\local\\programs\\python\\python310\\lib\\site-packages (from pandas) (2.8.2)\n",
      "Requirement already satisfied: six>=1.5 in c:\\users\\aleix\\appdata\\local\\programs\\python\\python310\\lib\\site-packages (from python-dateutil>=2.8.2->pandas) (1.16.0)\n",
      "Installing collected packages: pytz, tzdata, pandas\n",
      "Successfully installed pandas-2.0.1 pytz-2023.3 tzdata-2023.3\n"
     ]
    },
    {
     "name": "stderr",
     "output_type": "stream",
     "text": [
      "\n",
      "[notice] A new release of pip available: 22.2.1 -> 23.1.2\n",
      "[notice] To update, run: python.exe -m pip install --upgrade pip\n"
     ]
    }
   ],
   "source": [
    "!pip install socket"
   ]
  },
  {
   "cell_type": "code",
   "execution_count": 1,
   "metadata": {},
   "outputs": [
    {
     "name": "stdout",
     "output_type": "stream",
     "text": [
      "Server is listening on LAPTOP-D0USOJ6U:12345\n",
      "Got a connection from ('10.192.128.198', 63936)\n",
      "Received message: Game1-Al\n",
      "Got a connection from ('10.192.128.198', 63937)\n",
      "Received message: Game1-Al\n",
      "Got a connection from ('10.192.128.198', 63938)\n",
      "Received message: Game1-Al\n",
      "Got a connection from ('10.192.128.198', 63939)\n",
      "Received message: Game1-Al\n",
      "Got a connection from ('10.192.128.198', 63940)\n",
      "Received message: Game1-Al\n",
      "Got a connection from ('10.192.128.198', 63941)\n",
      "Received message: Game1-Al\n",
      "Got a connection from ('10.192.128.198', 63942)\n",
      "Received message: Game1-Al\n",
      "Got a connection from ('10.192.128.198', 63943)\n",
      "Received message: Game1-Al\n",
      "Got a connection from ('10.192.128.198', 63944)\n",
      "Received message: Game1-Al\n",
      "Got a connection from ('10.192.128.198', 63945)\n",
      "Received message: Game1-Al\n",
      "Got a connection from ('10.192.128.198', 63946)\n",
      "Received message: Game1-Al\n",
      "Got a connection from ('10.192.128.198', 63947)\n",
      "Received message: Game1-Al\n",
      "Got a connection from ('10.192.128.198', 63948)\n",
      "Received message: Game1-Al\n",
      "Got a connection from ('10.192.128.198', 63949)\n",
      "Received message: Game1-Al\n",
      "Got a connection from ('10.192.128.198', 63950)\n",
      "Received message: Game1-Al\n",
      "Got a connection from ('10.192.128.198', 63951)\n",
      "Received message: Game1-Al\n",
      "Got a connection from ('10.192.128.198', 63952)\n",
      "Received message: Game1-Al\n",
      "Got a connection from ('10.192.128.198', 63953)\n",
      "Received message: Game1-Al\n",
      "Got a connection from ('10.192.128.198', 63954)\n",
      "Received message: Game1-Al\n",
      "Got a connection from ('10.192.128.198', 63955)\n",
      "Received message: Game1-Al\n",
      "Got a connection from ('10.192.128.198', 63956)\n",
      "Received message: Game1-Al\n",
      "Got a connection from ('10.192.128.198', 63957)\n",
      "Received message: Game1-Al\n",
      "Got a connection from ('10.192.128.198', 63958)\n",
      "Received message: Game1-Al\n",
      "Got a connection from ('10.192.128.198', 63959)\n",
      "Received message: Game1-Be\n",
      "Got a connection from ('10.192.128.198', 63960)\n",
      "Received message: Game1-Al\n",
      "Got a connection from ('10.192.128.198', 65222)\n",
      "Received message: Game1-\n"
     ]
    }
   ],
   "source": [
    "import socket\n",
    "    \n",
    "# Create a socket object\n",
    "server_socket = socket.socket()\n",
    "\n",
    "# Get local machine name\n",
    "host = socket.gethostname()\n",
    "\n",
    "# Reserve a port for your service.\n",
    "port = 12345\n",
    "\n",
    "# Bind the socket to a public host, and a port\n",
    "server_socket.bind((host, port))\n",
    "\n",
    "# Listen for incoming connections\n",
    "server_socket.listen(5)\n",
    "\n",
    "print(\"Server is listening on {}:{}\".format(host, port))\n",
    "a = set()\n",
    "while True:\n",
    "    # Establish a connection\n",
    "    conn, addr = server_socket.accept()\n",
    "    print(\"Got a connection from {}\".format(addr))\n",
    "\n",
    "    # Receive data from the client\n",
    "    data = conn.recv(1024).decode()\n",
    "    if not data:\n",
    "        break\n",
    "\n",
    "    if data.split('-')[0] == \"Game1\":\n",
    "        a.add(data.split('-')[1])\n",
    "\n",
    "        # Send a response back to the client\n",
    "        response = str(len(a))\n",
    "        conn.send(response.encode())\n",
    "\n",
    "    print(\"Received message: {}\".format(data))\n",
    "    \n",
    "    # Close the connection\n",
    "    conn.close()\n"
   ]
  }
 ],
 "metadata": {
  "kernelspec": {
   "display_name": "Python 3",
   "language": "python",
   "name": "python3"
  },
  "language_info": {
   "codemirror_mode": {
    "name": "ipython",
    "version": 3
   },
   "file_extension": ".py",
   "mimetype": "text/x-python",
   "name": "python",
   "nbconvert_exporter": "python",
   "pygments_lexer": "ipython3",
   "version": "3.10.6"
  },
  "orig_nbformat": 4,
  "vscode": {
   "interpreter": {
    "hash": "514bfdcafeef2f883d2b8617968f73d95ea24a50ccc236f69c20ceaf8d187fd1"
   }
  }
 },
 "nbformat": 4,
 "nbformat_minor": 2
}
