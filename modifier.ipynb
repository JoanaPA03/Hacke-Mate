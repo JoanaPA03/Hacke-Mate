{
 "cells": [
  {
   "cell_type": "code",
   "execution_count": 16,
   "metadata": {},
   "outputs": [],
   "source": [
    "from PIL import Image\n",
    "\n",
    "# Load the image\n",
    "image = Image.open(\"avio.png\")\n",
    "\n",
    "# Get the pixel data\n",
    "pixels = image.load()\n",
    "\n",
    "# Modify the pixels\n",
    "for i in range(image.width):\n",
    "    for j in range(image.height):\n",
    "        r, g, b = pixels[i, j]\n",
    "        if r < 150:\n",
    "            pixels[i, j] = (255,200, 0, 0)\n",
    "        else:\n",
    "            pixels[i, j] = (255, 255, 255, 255)\n",
    "\n",
    "# Save the modified image\n",
    "image.save(\"nouavio.png\")"
   ]
  }
 ],
 "metadata": {
  "kernelspec": {
   "display_name": "Python 3",
   "language": "python",
   "name": "python3"
  },
  "language_info": {
   "codemirror_mode": {
    "name": "ipython",
    "version": 3
   },
   "file_extension": ".py",
   "mimetype": "text/x-python",
   "name": "python",
   "nbconvert_exporter": "python",
   "pygments_lexer": "ipython3",
   "version": "3.10.6"
  },
  "orig_nbformat": 4
 },
 "nbformat": 4,
 "nbformat_minor": 2
}
