{
 "cells": [
  {
   "cell_type": "code",
   "execution_count": 1,
   "metadata": {},
   "outputs": [
    {
     "name": "stdout",
     "output_type": "stream",
     "text": [
      "pygame 2.4.0 (SDL 2.26.4, Python 3.10.6)\n",
      "Hello from the pygame community. https://www.pygame.org/contribute.html\n",
      "Connected to server\n"
     ]
    }
   ],
   "source": [
    "import pygame\n",
    "import socket\n",
    "\n",
    "# Initialize Pygame\n",
    "pygame.init()\n",
    "\n",
    "# Define window size and create the screen\n",
    "WINDOW_SIZE = (640, 480)\n",
    "screen = pygame.display.set_mode(WINDOW_SIZE)\n",
    "pygame.display.set_caption(\"Client\")\n",
    "\n",
    "# Set up the client socket and connect to the server\n",
    "client_socket = socket.socket(socket.AF_INET, socket.SOCK_STREAM)\n",
    "client_socket.connect(('localhost', 1234))\n",
    "print(\"Connected to server\")\n",
    "\n",
    "# Game loop\n",
    "running = True\n",
    "while running:\n",
    "\n",
    "    # Check for events\n",
    "    for event in pygame.event.get():\n",
    "        if event.type == pygame.QUIT:\n",
    "            running = False\n",
    "\n",
    "    # Update the screen\n",
    "    pygame.display.flip()\n",
    "\n",
    "# Clean up\n",
    "pygame.quit()\n",
    "client_socket.close()\n"
   ]
  },
  {
   "cell_type": "code",
   "execution_count": 2,
   "metadata": {},
   "outputs": [
    {
     "ename": "SyntaxError",
     "evalue": "expected ':' (4040066858.py, line 26)",
     "output_type": "error",
     "traceback": [
      "\u001b[1;36m  Cell \u001b[1;32mIn[2], line 26\u001b[1;36m\u001b[0m\n\u001b[1;33m    elif event.type\u001b[0m\n\u001b[1;37m                   ^\u001b[0m\n\u001b[1;31mSyntaxError\u001b[0m\u001b[1;31m:\u001b[0m expected ':'\n"
     ]
    }
   ],
   "source": [
    "import pygame\n",
    "import socket\n",
    "import pickle\n",
    "\n",
    "# Initialize Pygame\n",
    "pygame.init()\n",
    "\n",
    "# Define window size and create the screen\n",
    "WINDOW_SIZE = (640, 480)\n",
    "screen = pygame.display.set_mode(WINDOW_SIZE)\n",
    "pygame.display.set_caption(\"Client\")\n",
    "\n",
    "# Set up the client socket and connect to the server\n",
    "client_socket = socket.socket(socket.AF_INET, socket.SOCK_STREAM)\n",
    "client_socket.connect(('localhost', 1234))\n",
    "print(\"Connected to server\")\n",
    "\n",
    "# Game loop\n",
    "running = True\n",
    "while running:\n",
    "\n",
    "    # Check for events\n",
    "    for event in pygame.event.get():\n",
    "        if event.type == pygame.QUIT:\n",
    "            running = False\n",
    "        elif event.type\n"
   ]
  },
  {
   "cell_type": "code",
   "execution_count": 1,
   "metadata": {},
   "outputs": [
    {
     "name": "stdout",
     "output_type": "stream",
     "text": [
      "pygame 2.4.0 (SDL 2.26.4, Python 3.10.6)\n",
      "Hello from the pygame community. https://www.pygame.org/contribute.html\n"
     ]
    },
    {
     "ename": "ConnectionRefusedError",
     "evalue": "[WinError 10061] No connection could be made because the target machine actively refused it",
     "output_type": "error",
     "traceback": [
      "\u001b[1;31m---------------------------------------------------------------------------\u001b[0m",
      "\u001b[1;31mConnectionRefusedError\u001b[0m                    Traceback (most recent call last)",
      "Cell \u001b[1;32mIn[1], line 18\u001b[0m\n\u001b[0;32m     16\u001b[0m \u001b[39m# Create a socket object and connect to the server\u001b[39;00m\n\u001b[0;32m     17\u001b[0m client_socket \u001b[39m=\u001b[39m socket\u001b[39m.\u001b[39msocket(socket\u001b[39m.\u001b[39mAF_INET, socket\u001b[39m.\u001b[39mSOCK_STREAM)\n\u001b[1;32m---> 18\u001b[0m client_socket\u001b[39m.\u001b[39;49mconnect((HOST, PORT))\n\u001b[0;32m     20\u001b[0m \u001b[39mprint\u001b[39m(\u001b[39mf\u001b[39m\u001b[39m\"\u001b[39m\u001b[39mConnected to server at \u001b[39m\u001b[39m{\u001b[39;00mHOST\u001b[39m}\u001b[39;00m\u001b[39m:\u001b[39m\u001b[39m{\u001b[39;00mPORT\u001b[39m}\u001b[39;00m\u001b[39m...\u001b[39m\u001b[39m\"\u001b[39m)\n\u001b[0;32m     22\u001b[0m \u001b[39m# Receive a welcome message from the server\u001b[39;00m\n",
      "\u001b[1;31mConnectionRefusedError\u001b[0m: [WinError 10061] No connection could be made because the target machine actively refused it"
     ]
    },
    {
     "ename": "",
     "evalue": "",
     "output_type": "error",
     "traceback": [
      "\u001b[1;31mThe Kernel crashed while executing code in the the current cell or a previous cell. Please review the code in the cell(s) to identify a possible cause of the failure. Click <a href='https://aka.ms/vscodeJupyterKernelCrash'>here</a> for more info. View Jupyter <a href='command:jupyter.viewOutput'>log</a> for further details."
     ]
    }
   ],
   "source": [
    "import pygame\n",
    "import socket\n",
    "\n",
    "# Define the host and port for the server\n",
    "HOST = 'localhost'\n",
    "PORT = 8000\n",
    "\n",
    "# Initialize Pygame\n",
    "pygame.init()\n",
    "\n",
    "# Set up the game window\n",
    "WINDOW_SIZE = (400, 400)\n",
    "screen = pygame.display.set_mode(WINDOW_SIZE)\n",
    "pygame.display.set_caption(\"Pygame Socket Game\")\n",
    "\n",
    "# Create a socket object and connect to the server\n",
    "client_socket = socket.socket(socket.AF_INET, socket.SOCK_STREAM)\n",
    "client_socket.connect((HOST, PORT))\n",
    "\n",
    "print(f\"Connected to server at {HOST}:{PORT}...\")\n",
    "\n",
    "# Receive a welcome message from the server\n",
    "welcome_message = client_socket.recv(1024)\n",
    "print(welcome_message.decode())\n",
    "\n",
    "# Game loop\n",
    "running = True\n",
    "while running:\n",
    "    \n",
    "    # Handle events\n",
    "    for event in pygame.event.get():\n",
    "        if event.type == pygame.QUIT:\n",
    "            running = False\n",
    "\n",
    "    \n",
    "\n",
    "    # Draw the game screen\n",
    "    screen.fill((255, 255, 255))\n",
    "    pygame.draw.circle(screen, (255, 0, 0), (50, 50), 20)\n",
    "    pygame.draw.circle(screen, (0, 0, 255), (350, 350), 20)\n",
    "\n",
    "    # Update the display\n",
    "    pygame.display.update()\n",
    "\n",
    "# Close the socket when the game is over\n",
    "client_socket.close()\n"
   ]
  },
  {
   "cell_type": "code",
   "execution_count": 1,
   "metadata": {},
   "outputs": [],
   "source": [
    "import socket\n",
    "\n",
    "# Create a socket object\n",
    "client_socket = socket.socket()\n",
    "\n",
    "# Get local machine name\n",
    "host = socket.gethostname()\n",
    "\n",
    "# Reserve a port for your service.\n",
    "port = 12345\n",
    "\n",
    "# Connect to the server\n",
    "client_socket.connect((host, port))\n",
    "\n",
    "while True:\n",
    "    # Get a message from the user\n",
    "    message = input(\"Enter a message to send: \")\n",
    "    if message.lower() == \"exit\":\n",
    "        break\n",
    "\n",
    "    # Send the message to the server\n",
    "    client_socket.send(message.encode())\n",
    "\n",
    "    # Receive the response from the server\n",
    "    response = client_socket.recv(1024).decode()\n",
    "    print(\"iteracio\")\n",
    "    print(\"Received response: {}\".format(response))\n",
    "\n",
    "# Close the connection\n",
    "client_socket.close()\n"
   ]
  },
  {
   "cell_type": "code",
   "execution_count": 5,
   "metadata": {},
   "outputs": [
    {
     "ename": "SystemExit",
     "evalue": "",
     "output_type": "error",
     "traceback": [
      "An exception has occurred, use %tb to see the full traceback.\n",
      "\u001b[1;31mSystemExit\u001b[0m\n"
     ]
    }
   ],
   "source": [
    "import socket\n",
    "import pygame\n",
    "import sys\n",
    "\n",
    "pygame.init()\n",
    "\n",
    "# Set up the window\n",
    "win = pygame.display.set_mode((400, 400))\n",
    "\n",
    "# Set up the font\n",
    "font = pygame.font.SysFont(None, 30)\n",
    "\n",
    "# Set up the button\n",
    "button_rect = pygame.Rect(150, 150, 100, 50)\n",
    "button_text = font.render(\"Click me!\", True, (255, 255, 255))\n",
    "\n",
    "\n",
    "\n",
    "\n",
    "\n",
    "loop = True\n",
    "while loop:\n",
    "    for event in pygame.event.get():\n",
    "        if event.type == pygame.QUIT:\n",
    "            loop = False\n",
    "        elif event.type == pygame.MOUSEBUTTONDOWN and button_rect.collidepoint(event.pos):\n",
    "            try:\n",
    "                # Create a socket object\n",
    "                client_socket = socket.socket()\n",
    "\n",
    "                # Get local machine name\n",
    "                host = socket.gethostname()\n",
    "\n",
    "                # Reserve a port for your service.\n",
    "                port = 12345\n",
    "                # Connect to the server\n",
    "                client_socket.connect((host, port))\n",
    "            except OSError as e:\n",
    "                if e.errno == 10056:\n",
    "                    client_socket.close()\n",
    "                    # Create a socket object\n",
    "                    client_socket = socket.socket()\n",
    "\n",
    "                    # Get local machine name\n",
    "                    host = socket.gethostname()\n",
    "\n",
    "                    # Reserve a port for your service.\n",
    "                    port = 12345\n",
    "                    # Connect to the server\n",
    "                    client_socket.connect((host, port))\n",
    "                else:\n",
    "                    raise e\n",
    "            # Send the message to the server\n",
    "            message = \"Game1\"\n",
    "            client_socket.send(message.encode())\n",
    "\n",
    "            # Receive the response from the server\n",
    "            response = client_socket.recv(1024).decode()\n",
    "            print(\"Received response: {}\".format(response))\n",
    "            # Close the connection\n",
    "            client_socket.close()\n",
    "    \n",
    "    # Draw the button\n",
    "    pygame.draw.rect(win, (0, 0, 255), button_rect)\n",
    "    win.blit(button_text, (165, 160))\n",
    "    \n",
    "    # Update the display\n",
    "    pygame.display.update()\n",
    "\n",
    "\n",
    "pygame.quit()\n",
    "sys.exit()   \n",
    "\n",
    "\n"
   ]
  }
 ],
 "metadata": {
  "kernelspec": {
   "display_name": "Python 3",
   "language": "python",
   "name": "python3"
  },
  "language_info": {
   "codemirror_mode": {
    "name": "ipython",
    "version": 3
   },
   "file_extension": ".py",
   "mimetype": "text/x-python",
   "name": "python",
   "nbconvert_exporter": "python",
   "pygments_lexer": "ipython3",
   "version": "3.10.6"
  },
  "orig_nbformat": 4,
  "vscode": {
   "interpreter": {
    "hash": "514bfdcafeef2f883d2b8617968f73d95ea24a50ccc236f69c20ceaf8d187fd1"
   }
  }
 },
 "nbformat": 4,
 "nbformat_minor": 2
}
