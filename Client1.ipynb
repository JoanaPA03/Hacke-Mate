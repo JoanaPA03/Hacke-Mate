{
 "cells": [
  {
   "cell_type": "code",
   "execution_count": 2,
   "metadata": {},
   "outputs": [
    {
     "name": "stdout",
     "output_type": "stream",
     "text": [
      "Received response: 4\n",
      "Received response: 5\n",
      "Received response: 6\n"
     ]
    },
    {
     "ename": "SystemExit",
     "evalue": "",
     "output_type": "error",
     "traceback": [
      "An exception has occurred, use %tb to see the full traceback.\n",
      "\u001b[1;31mSystemExit\u001b[0m\n"
     ]
    }
   ],
   "source": [
    "import socket\n",
    "import pygame\n",
    "import sys\n",
    "\n",
    "pygame.init()\n",
    "\n",
    "# Set up the window\n",
    "win = pygame.display.set_mode((400, 400))\n",
    "\n",
    "# Set up the font\n",
    "font = pygame.font.SysFont(None, 30)\n",
    "\n",
    "# Set up the button\n",
    "button_rect = pygame.Rect(150, 150, 100, 50)\n",
    "button_text = font.render(\"Click me!\", True, (255, 255, 255))\n",
    "\n",
    "\n",
    "\n",
    "\n",
    "\n",
    "loop = True\n",
    "while loop:\n",
    "    for event in pygame.event.get():\n",
    "        if event.type == pygame.QUIT:\n",
    "            loop = False\n",
    "        elif event.type == pygame.MOUSEBUTTONDOWN and button_rect.collidepoint(event.pos):\n",
    "            try:\n",
    "                # Create a socket object\n",
    "                client_socket = socket.socket()\n",
    "\n",
    "                # Get local machine name\n",
    "                host = socket.gethostname()\n",
    "\n",
    "                # Reserve a port for your service.\n",
    "                port = 12345\n",
    "                # Connect to the server\n",
    "                client_socket.connect((host, port))\n",
    "            except OSError as e:\n",
    "                if e.errno == 10056:\n",
    "                    client_socket.close()\n",
    "                    # Create a socket object\n",
    "                    client_socket = socket.socket()\n",
    "\n",
    "                    # Get local machine name\n",
    "                    host = socket.gethostname()\n",
    "\n",
    "                    # Reserve a port for your service.\n",
    "                    port = 12345\n",
    "                    # Connect to the server\n",
    "                    client_socket.connect((host, port))\n",
    "                else:\n",
    "                    raise e\n",
    "            # Send the message to the server\n",
    "            message = \"Game1\"\n",
    "            client_socket.send(message.encode())\n",
    "\n",
    "            # Receive the response from the server\n",
    "            response = client_socket.recv(1024).decode()\n",
    "            print(\"Received response: {}\".format(response))\n",
    "            # Close the connection\n",
    "            client_socket.close()\n",
    "    \n",
    "    # Draw the button\n",
    "    pygame.draw.rect(win, (0, 0, 255), button_rect)\n",
    "    win.blit(button_text, (165, 160))\n",
    "    \n",
    "    # Update the display\n",
    "    pygame.display.update()\n",
    "\n",
    "\n",
    "pygame.quit()\n",
    "sys.exit()   \n",
    "\n",
    "\n"
   ]
  }
 ],
 "metadata": {
  "kernelspec": {
   "display_name": "Python 3",
   "language": "python",
   "name": "python3"
  },
  "language_info": {
   "codemirror_mode": {
    "name": "ipython",
    "version": 3
   },
   "file_extension": ".py",
   "mimetype": "text/x-python",
   "name": "python",
   "nbconvert_exporter": "python",
   "pygments_lexer": "ipython3",
   "version": "3.10.6"
  },
  "orig_nbformat": 4
 },
 "nbformat": 4,
 "nbformat_minor": 2
}
